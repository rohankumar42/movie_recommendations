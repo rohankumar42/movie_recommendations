{
 "cells": [
  {
   "cell_type": "code",
   "execution_count": 29,
   "metadata": {},
   "outputs": [],
   "source": [
    "import pandas as pd\n",
    "import numpy as np\n",
    "import csv\n",
    "import scipy.sparse\n",
    "import matplotlib.pyplot as plt\n",
    "\n",
    "movie_file = \"ml-1m/movies.dat\"\n",
    "m_names = [\"bad_index\", \"Title\", \"Genre\"]\n",
    "movies = pd.read_csv(movie_file, nrows=1_000_000, header=None, names=m_names, sep=\"::\", engine='python')\n",
    "movie_to_index = dict((m,i) for i,m in zip(movies.index, movies[\"bad_index\"]))\n",
    "movie_to_genre = dict((i,g) for i,g in zip(movies.index, movies[\"Genre\"]))\n",
    "\n",
    "input_file = \"ml-1m/ratings.dat\"\n",
    "names = [\"Movie\", \"Rating\", \"Not_Needed\"]\n",
    "data = pd.read_csv(input_file, nrows=1_000_000, header=None, names=names, sep=\"::\", engine='python')\n",
    "data.index.name=\"User\"\n"
   ]
  },
  {
   "cell_type": "code",
   "execution_count": 27,
   "metadata": {},
   "outputs": [],
   "source": [
    "ratings = np.zeros(shape=(6040, 3883))\n",
    "for d in data.itertuples():\n",
    "    movie = movie_to_index[getattr(d, 'Movie')]\n",
    "    user = int(d[0])\n",
    "    rating = getattr(d, 'Rating')\n",
    "    ratings[user-1][movie] = rating\n",
    "\n",
    "np.save(\"1M_ratings_np\", ratings)"
   ]
  },
  {
   "cell_type": "code",
   "execution_count": 30,
   "metadata": {},
   "outputs": [],
   "source": [
    "genre_to_int = {\n",
    "    'Action' : 0,\n",
    "    'Adventure' : 1,\n",
    "    'Animation' : 2,\n",
    "    'Children\\'s' : 3,\n",
    "    'Comedy' : 4,\n",
    "    'Crime' : 5,\n",
    "    'Documentary' : 6,\n",
    "    'Drama' : 7,\n",
    "    'Fantasy' : 8,\n",
    "    'Film-Noir' : 9, \n",
    "    'Horror' : 10,\n",
    "    'Musical' : 11,\n",
    "    'Mystery' : 12,\n",
    "    'Romance' : 13,\n",
    "    'Sci-Fi' : 14,\n",
    "    'Thriller' : 15,\n",
    "    'War' : 16,\n",
    "    'Western' : 17, \n",
    "}\n",
    "\n",
    "def get_genres_for_movie(movie, curr):\n",
    "    inds = [genre_to_int[genre] for genre in movie_to_genre[movie].split('|')]\n",
    "    for i in inds:\n",
    "        curr[i] += 1\n",
    "    return curr\n",
    "\n",
    "def get_top_k_genres_for_user(mat, user, k):\n",
    "    movies = mat[user]\n",
    "    genre_prefs = np.zeros(len(genre_to_int))\n",
    "    average_rating = movies[np.nonzero(movies)].mean()\n",
    "    for i,movie in enumerate(movies):\n",
    "        if movie > average_rating:\n",
    "            genre_prefs = get_genres_for_movie(i, genre_prefs)\n",
    "    return np.flip(np.argsort(genre_prefs))[:k]"
   ]
  },
  {
   "cell_type": "code",
   "execution_count": 34,
   "metadata": {},
   "outputs": [
    {
     "name": "stdout",
     "output_type": "stream",
     "text": [
      "0\n",
      "1000\n",
      "2000\n",
      "3000\n",
      "4000\n",
      "5000\n",
      "[7, 7, 1, 0, 7, 13, 0, 7, 7, 4, 4, 7, 1, 7, 7, 4, 14, 7, 0, 0, 2, 4, 14, 4, 0, 4, 7, 7, 0, 7, 4, 7, 7, 4, 7, 7, 13, 4, 4, 1, 14, 0, 4, 4, 4, 10, 7, 7, 0, 7, 4, 0, 7, 4, 7, 7, 7, 7, 7, 1, 0, 7, 7, 0, 0, 7, 7, 4, 7, 4, 0, 7, 0, 7, 3, 7, 4, 4, 12, 7, 7, 7, 8, 0, 15, 1, 0, 7, 7, 4, 4, 4, 0, 10, 7, 7, 7, 7, 4, 0, 0, 4, 0, 4, 0, 13, 7, 4, 4, 5, 7, 2, 0, 3, 0, 8, 0, 0, 4, 7, 14, 0, 7, 7, 0, 13, 0, 4, 0, 0, 7, 4, 7, 0, 4, 7, 0, 7, 0, 7, 7, 7, 0, 7, 4, 7, 0, 0, 7, 7, 4, 4, 4, 4, 4, 4, 4, 7, 4, 7, 7, 0, 0, 13, 14, 7, 7, 4, 4, 7, 6, 9, 7, 0, 7, 4, 1, 11, 14, 7, 7, 4, 7, 3, 0, 0, 7, 7, 7, 7, 4, 7, 7, 4, 7, 15, 7, 4, 7, 4, 4, 4, 7, 7, 4, 14, 4, 7, 4, 0, 15, 4, 4, 4, 14, 4, 4, 4, 4, 4, 12, 0, 4, 7, 7, 4, 15, 15, 7, 7, 4, 4, 11, 7, 7, 0, 4, 7, 7, 0, 14, 4, 4, 4, 7, 4, 7, 0, 4, 0, 0, 0, 7, 10, 7, 0, 7, 7, 7, 0, 7, 14, 4, 4, 11, 4, 7, 7, 4, 7, 4, 4, 0, 7, 7, 4, 0, 10, 16, 4, 7, 15, 0, 4, 7, 7, 7, 0, 15, 7, 7, 7, 7, 4, 0, 10, 4, 4, 7, 7, 4, 4, 7, 9, 10, 4, 7, 7, 7, 4, 0, 7, 4, 7, 12, 14, 7, 7, 7, 7, 7, 7, 4, 15, 4, 4, 7, 0, 4, 7, 7, 7, 4, 7, 1, 14, 0, 4, 7, 4, 0, 4, 4, 0, 7, 7, 7, 16, 7, 0, 0, 7, 7, 7, 4, 10, 7, 7, 14, 1, 7, 0, 15, 4, 13, 7, 13, 7, 4, 4, 4, 0, 0, 0, 7, 7, 7, 4, 13, 4, 14, 7, 4, 0, 0, 4, 4, 7, 7, 10, 7, 4, 7, 0, 4, 4, 0, 4, 4, 4, 4, 4, 4, 7, 4, 7, 4, 7, 7, 4, 7, 4, 7, 16, 4, 7, 2, 0, 7, 4, 15, 14, 4, 7, 4, 0, 0, 4, 7, 13, 0, 13, 4, 4, 0, 14, 16, 4, 7, 0, 14, 4, 7, 7, 14, 7, 7, 7, 10, 7, 7, 7, 4, 4, 4, 0, 7, 0, 4, 4, 7, 4, 4, 7, 4, 7, 7, 13, 7, 11, 7, 14, 13, 4, 4, 4, 0, 7, 7, 7, 4, 7, 7, 0, 4, 7, 7, 14, 7, 0, 7, 7, 7, 4, 0, 4, 8, 7, 7, 4, 4, 7, 9, 4, 4, 4, 7, 14, 7, 14, 7, 12, 7, 4, 7, 4, 7, 7, 4, 7, 15, 0, 4, 7, 7, 0, 4, 4, 7, 0, 4, 14, 4, 13, 7, 0, 7, 1, 0, 7, 4, 0, 0, 11, 4, 4, 14, 10, 7, 7, 7, 0, 4, 7, 2, 4, 14, 7, 15, 0, 7, 0, 14, 7, 7, 4, 1, 0, 4, 7, 15, 0, 15, 7, 0, 14, 7, 7, 4, 16, 13, 7, 7, 7, 4, 14, 4, 7, 4, 7, 7, 0, 7, 4, 7, 0, 7, 7, 7, 4, 7, 14, 0, 0, 7, 4, 7, 4, 0, 7, 7, 7, 7, 3, 0, 7, 7, 7, 4, 4, 10, 7, 7, 7, 7, 7, 8, 4, 3, 13, 7, 14, 7, 3, 7, 14, 7, 4, 0, 7, 7, 13, 4, 14, 4, 0, 4, 7, 14, 0, 4, 15, 7, 7, 7, 7, 7, 4, 7, 7, 0, 3, 0, 4, 10, 7, 10, 15, 4, 7, 7, 0, 7, 0, 4, 7, 7, 7, 7, 4, 2, 7, 0, 7, 0, 7, 7, 16, 13, 4, 4, 7, 7, 4, 7, 7, 4, 7, 7, 9, 7, 4, 7, 7, 10, 7, 15, 7, 10, 4, 7, 0, 0, 7, 4, 0, 0, 0, 4, 7, 7, 7, 4, 13, 7, 4, 7, 7, 0, 4, 4, 7, 4, 17, 4, 7, 7, 7, 0, 7, 10, 14, 4, 0, 7, 7, 0, 7, 7, 7, 0, 7, 4, 7, 7, 0, 4, 7, 13, 7, 0, 14, 0, 3, 4, 4, 7, 7, 7, 4, 7, 14, 0, 7, 0, 4, 0, 0, 7, 0, 4, 2, 0, 7, 0, 0, 7, 14, 4, 14, 4, 14, 7, 4, 7, 7, 13, 7, 7, 4, 7, 4, 0, 4, 13, 4, 2, 0, 4, 7, 7, 15, 4, 1, 4, 4, 4, 7, 0, 14, 7, 4, 4, 7, 4, 6, 7, 4, 7, 10, 5, 4, 7, 13, 14, 11, 7, 7, 7, 4, 7, 7, 4, 7, 7, 4, 4, 4, 4, 7, 14, 4, 1, 13, 4, 7, 4, 14, 10, 10, 4, 7, 0, 7, 0, 2, 7, 10, 4, 4, 4, 0, 7, 15, 7, 0, 4, 14, 4, 14, 4, 14, 7, 7, 14, 7, 7, 4, 7, 4, 7, 14, 15, 0, 4, 4, 7, 7, 7, 7, 4, 7, 7, 0, 7, 14, 7, 15, 7, 7, 7, 4, 0, 7, 0, 7, 7, 4, 7, 0, 7, 7, 4, 7, 13, 4, 4, 7, 0, 7, 13, 7, 7, 4, 7, 0, 0, 4, 7, 4, 7, 7, 7, 4, 13, 7, 4, 7, 0, 14, 2, 4, 7, 7, 7, 4, 7, 7, 7, 7, 4, 15, 7, 4, 7, 7, 4, 4, 7, 0, 0, 7, 7, 0, 7, 4, 7, 7, 0, 0, 4, 13, 1, 7, 15, 7, 7, 7, 4, 0, 13, 7, 7, 0, 13, 0, 7, 7, 7, 0, 7, 7, 0, 4, 4, 4, 4, 4, 7, 7, 8, 7, 4, 1, 7, 7, 10, 0, 7, 0, 7, 7, 4, 13, 4, 9, 7, 7, 4, 0, 0, 4, 0, 7, 7, 7, 4, 7, 7, 7, 7, 8, 5, 4, 4, 1, 14, 7, 7, 4, 4, 13, 0, 4, 4, 10, 7, 7, 7, 0, 4, 7, 14, 7, 13, 13, 7, 7, 7, 0, 13, 7, 13, 7, 7, 4, 7, 7, 7, 7, 4, 0, 3, 7, 7, 4, 7, 7, 15, 7, 0, 11, 0, 7, 7, 4, 4, 7, 7, 4, 7, 15, 13, 7, 15, 14, 4, 4, 7, 7, 3, 7, 7, 13, 7, 4, 4, 0, 7, 4, 7, 14, 7, 4, 7, 7, 0, 7, 0, 7, 7, 0, 7, 7, 14, 15, 7, 7, 7, 7, 4, 7, 7, 7, 7, 15, 7, 4, 4, 7, 4, 0, 4, 4, 0, 13, 0, 13, 14, 4, 7, 7, 0, 7, 14, 0, 7, 4, 4, 7, 7, 7, 7, 4, 13, 0, 4, 12, 0, 7, 7, 7, 4, 4, 4, 4, 3, 0, 13, 1, 9, 7, 4, 7, 10, 7, 15, 0, 7, 15, 4, 7, 7, 4, 7, 14, 4, 7, 7, 0, 7, 5, 7, 17, 14, 0, 4, 7, 0, 4, 4, 7, 4, 7, 7, 7, 7, 7, 7, 0, 7, 7, 14, 9, 7, 0, 7, 7, 7, 7, 4, 7, 4, 7, 14, 0, 7, 7, 14, 7, 4, 7, 7, 13, 7, 15, 1, 9, 14, 7, 4, 4, 4, 7, 7, 7, 7, 7, 4, 7, 4, 4, 7, 7, 16, 4, 10, 0, 7, 7, 7, 4, 4, 7, 7, 7, 7, 7, 1, 7, 7, 7, 4, 4, 7, 7, 7, 7, 0, 10, 7, 15, 4, 0, 6, 7, 0, 0, 0, 7, 0, 14, 0, 4, 7, 4, 7, 7, 4, 0, 4, 4, 7, 7, 4, 7, 16, 0, 4, 4, 7, 4, 7, 7, 7, 2, 3, 0, 0, 7, 10, 10, 4, 7, 4, 4, 7, 3, 0, 7, 15, 7, 4, 4, 13, 4, 10, 0, 2, 7, 7, 7, 4, 10, 7, 4, 4, 4, 0, 4, 7, 0, 14, 7, 4, 7, 0, 15, 7, 0, 4, 7, 7, 0, 7, 4, 7, 15, 7, 7, 4, 7, 7, 7, 4, 4, 14, 7, 15, 7, 7, 7, 14, 4, 7, 7, 7, 0, 4, 14, 4, 0, 7, 0, 7, 7, 7, 0, 4, 7, 4, 4, 4, 10, 4, 7, 4, 7, 7, 4, 0, 14, 0, 4, 7, 7, 7, 4, 9, 7, 4, 7, 7, 7, 0, 7, 7, 7, 7, 4, 7, 4, 4, 16, 13, 7, 7, 4, 4, 0, 7, 4, 13, 0, 7, 0, 4, 0, 4, 7, 7, 0, 0, 7, 7, 3, 12, 7, 13, 7, 2, 7, 7, 7, 4, 0, 11, 7, 7, 0, 7, 4, 4, 4, 4, 4, 0, 7, 0, 4, 4, 4, 7, 0, 7, 7, 4, 7, 15, 7, 7, 4, 7, 4, 7, 4, 7, 14, 4, 0, 7, 14, 4, 4, 4, 7, 7, 4, 1, 4, 14, 7, 7, 7, 4, 7, 7, 4, 9, 7, 7, 0, 15, 14, 7, 4, 7, 7, 4, 7, 7, 7, 4, 15, 7, 7, 8, 0, 7, 0, 7, 10, 4, 0, 4, 7, 7, 15, 7, 7, 7, 15, 4, 4, 0, 13, 7, 0, 7, 13, 7, 4, 7, 4, 7, 4, 7, 4, 14, 7, 7, 4, 7, 4, 7, 0, 7, 14, 4, 4, 0, 7, 7, 7, 7, 15, 7, 7, 4, 15, 7, 17, 7, 1, 7, 4, 14, 7, 7, 5, 15, 16, 14, 0, 7, 7, 0, 7, 0, 14, 4, 7, 7, 4, 4, 7, 14, 7, 7, 0, 14, 7, 15, 7, 4, 7, 4, 4, 7, 4, 0, 4, 4, 7, 4, 0, 3, 4, 4, 7, 7, 4, 7, 4, 14, 7, 0, 7, 4, 7, 7, 0, 14, 4, 0, 4, 4, 4, 4, 7, 7, 7, 4, 4, 7, 7, 4, 4, 0, 4, 4, 7, 7, 4, 0, 7, 4, 7, 7, 4, 7, 4, 0, 0, 4, 4, 7, 15, 4, 4, 7, 7, 0, 4, 4, 7, 7, 5, 4, 0, 4, 10, 14, 7, 0, 0, 0, 2, 7, 4, 7, 7, 7, 7, 4, 4, 0, 4, 7, 7, 7, 7, 4, 7, 7, 14, 4, 7, 7, 7, 0, 7, 0, 4, 4, 0, 15, 7, 4, 13, 14, 0, 4, 0, 7, 7, 7, 7, 7, 4, 14, 7, 7, 0, 7, 4, 7, 4, 4, 7, 10, 4, 7, 14, 0, 7, 4, 7, 4, 4, 7, 13, 7, 7, 14, 7, 7, 4, 7, 0, 7, 7, 0, 7, 4, 0, 0, 7, 4, 12, 7, 4, 13, 14, 14, 10, 14, 0, 0, 4, 7, 4, 4, 7, 7, 14, 7, 7, 7, 0, 7, 7, 7, 3, 7, 7, 7, 15, 0, 14, 7, 7, 7, 7, 7, 4, 7, 7, 0, 2, 7, 14, 4, 4, 0, 14, 3, 3, 7, 0, 7, 4, 7, 4, 4, 4, 4, 17, 7, 0, 4, 15, 0, 7, 4, 7, 7, 0, 7, 7, 4, 7, 7, 7, 2, 0, 15, 0, 7, 7, 7, 7, 7, 7, 7, 7, 7, 7, 7, 7, 7, 15, 7, 4, 7, 4, 7, 7, 7, 4, 7, 7, 2, 4, 4, 7, 0, 4, 10, 7, 1, 4, 10, 13, 15, 7, 4, 4, 4, 4, 10, 7, 4, 4, 4, 7, 4, 0, 13, 7, 7, 7, 4, 4, 0, 7, 7, 0, 7, 14, 4, 4, 7, 7, 4, 3, 7, 4, 7, 7, 0, 7, 7, 7, 7, 5, 7, 7, 7, 7, 7, 7, 7, 7, 4, 7, 4, 4, 7, 7, 15, 7, 0, 7, 0, 15, 0, 7, 0, 7, 7, 4, 4, 7, 4, 0, 4, 4, 10, 7, 15, 4, 3, 14, 4, 11, 7, 4, 7, 4, 4, 4, 14, 4, 4, 0, 0, 7, 4, 4, 0, 0, 4, 4, 0, 14, 7, 7, 4, 7, 4, 0, 4, 4, 4, 4, 7, 7, 7, 7, 7, 4, 7, 4, 3, 4, 7, 15, 7, 7, 0, 4, 7, 4, 10, 10, 7, 7, 7, 4, 7, 5, 4, 7, 0, 0, 7, 0, 4, 7, 7, 15, 7, 0, 4, 4, 4, 7, 0, 7, 15, 4, 7, 7, 4, 4, 4, 0, 15, 0, 11, 7, 4, 7, 7, 4, 4, 15, 7, 4, 10, 7, 4, 7, 7, 7, 7, 4, 7, 4, 7, 7, 4, 0, 4, 4, 4, 4, 7, 4, 7, 7, 13, 7, 0, 14, 4, 4, 0, 10, 0, 14, 7, 4, 4, 4, 14, 14, 4, 7, 7, 15, 0, 10, 4, 0, 2, 4, 4, 10, 7, 0, 4, 7, 10, 4, 7, 7, 7, 4, 7, 4, 0, 7, 0, 0, 14, 4, 10, 7, 7, 7, 7, 7, 4, 7, 7, 7, 7, 0, 4, 7, 4, 4, 4, 0, 7, 4, 4, 7, 4, 0, 0, 0, 0, 7, 7, 4, 7, 14, 0, 4, 4, 14, 7, 7, 4, 7, 4, 7, 7, 4, 4, 4, 15, 4, 7, 15, 7, 7, 7, 4, 4, 14, 4, 4, 0, 0, 4, 7, 7, 7, 7, 12, 4, 4, 7, 7, 7, 0, 7, 4, 7, 7, 4, 7, 7, 15, 4, 7, 7, 4, 1, 0, 4, 4, 13, 4, 7, 4, 7, 0, 15, 7, 0, 7, 7, 4, 4, 14, 7, 7, 0, 8, 7, 7, 4, 7, 7, 7, 7, 0, 7, 14, 7, 4, 16, 7, 11, 4, 1, 0, 7, 7, 0, 7, 7, 4, 14, 0, 7, 0, 7, 0, 4, 13, 7, 4, 7, 4, 7, 14, 14, 7, 7, 7, 4, 7, 7, 4, 4, 7, 4, 7, 7, 0, 0, 10, 7, 14, 7, 7, 4, 7, 14, 0, 0, 7, 4, 7, 4, 0, 11, 4, 7, 0, 0, 7, 7, 4, 7, 10, 7, 14, 4, 7, 15, 7, 4, 4, 4, 4, 0, 11, 0, 0, 0, 7, 15, 7, 13, 7, 9, 0, 7, 7, 0, 4, 7, 7, 7, 7, 4, 15, 7, 3, 7, 0, 7, 4, 15, 7, 7, 4, 7, 7, 7, 7, 4, 10, 0, 7, 0, 5, 4, 7, 4, 15, 7, 7, 4, 0, 7, 7, 7, 7, 4, 4, 4, 0, 14, 4, 13, 0, 7, 7, 4, 4, 7, 4, 7, 0, 4, 0, 0, 4, 7, 7, 13, 4, 12, 11, 4, 3, 0, 4, 4, 7, 7, 7, 7, 15, 7, 4, 14, 7, 4, 4, 7, 1, 4, 4, 0, 7, 7, 14, 0, 7, 0, 1, 7, 7, 0, 15, 10, 7, 7, 7, 10, 4, 4, 7, 7, 4, 7, 7, 4, 7, 7, 7, 0, 7, 15, 4, 13, 7, 7, 15, 15, 0, 7, 7, 4, 15, 0, 13, 7, 4, 0, 14, 4, 7, 4, 12, 14, 4, 7, 13, 14, 7, 0, 0, 7, 4, 4, 7, 0, 5, 4, 7, 13, 7, 4, 4, 7, 4, 4, 1, 0, 7, 4, 0, 7, 7, 7, 7, 7, 15, 1, 7, 4, 4, 15, 7, 7, 7, 7, 14, 0, 7, 7, 14, 7, 4, 7, 0, 7, 4, 7, 7, 4, 7, 0, 4, 0, 0, 7, 15, 7, 4, 7, 4, 0, 7, 7, 7, 0, 4, 7, 10, 0, 7, 7, 0, 0, 13, 7, 0, 0, 7, 7, 7, 7, 4, 7, 4, 7, 7, 7, 0, 7, 4, 4, 16, 7, 7, 7, 7, 7, 0, 4, 13, 4, 7, 10, 7, 7, 7, 7, 7, 4, 12, 4, 7, 10, 7, 7, 7, 4, 4, 7, 7, 7, 7, 4, 7, 4, 4, 4, 7, 0, 4, 7, 7, 7, 13, 7, 7, 4, 13, 4, 7, 7, 4, 0, 7, 13, 4, 7, 7, 7, 0, 7, 7, 1, 7, 15, 14, 4, 4, 4, 15, 0, 7, 7, 4, 5, 4, 7, 7, 7, 7, 7, 10, 4, 12, 0, 4, 7, 7, 0, 0, 5, 7, 7, 13, 4, 4, 7, 15, 14, 0, 14, 7, 14, 7, 7, 4, 4, 0, 13, 0, 4, 4, 4, 7, 0, 0, 7, 4, 7, 0, 7, 7, 7, 4, 7, 7, 15, 0, 15, 4, 7, 0, 13, 4, 4, 0, 7, 4, 4, 7, 7, 4, 7, 0, 7, 4, 7, 7, 4, 0, 4, 7, 0, 4, 5, 7, 7, 0, 0, 0, 7, 4, 7, 7, 4, 4, 7, 4, 7, 4, 14, 7, 4, 7, 7, 7, 0, 7, 7, 0, 7, 7, 14, 4, 7, 7, 4, 7, 7, 4, 7, 0, 7, 4, 7, 14, 4, 7, 7, 4, 7, 7, 7, 0, 0, 4, 7, 7, 7, 4, 7, 4, 7, 7, 0, 4, 7, 0, 7, 4, 7, 7, 7, 4, 4, 7, 4, 0, 7, 7, 4, 0, 14, 4, 4, 14, 4, 1, 7, 10, 4, 7, 4, 7, 0, 13, 7, 7, 4, 7, 7, 15, 7, 7, 14, 14, 4, 7, 10, 7, 7, 4, 0, 0, 14, 7, 7, 4, 4, 4, 4, 7, 4, 0, 0, 0, 7, 0, 4, 1, 7, 0, 4, 0, 0, 4, 4, 7, 7, 4, 0, 7, 4, 14, 4, 10, 7, 10, 7, 4, 7, 4, 4, 4, 7, 7, 0, 7, 14, 0, 4, 4, 7, 4, 1, 7, 7, 7, 7, 15, 7, 7, 14, 4, 7, 4, 7, 0, 4, 7, 0, 4, 7, 0, 4, 4, 4, 13, 7, 7, 7, 4, 7, 14, 7, 7, 4, 7, 14, 15, 7, 7, 7, 4, 7, 7, 0, 7, 7, 4, 4, 7, 7, 4, 7, 7, 3, 7, 4, 9, 0, 4, 0, 7, 4, 4, 14, 7, 7, 0, 0, 4, 0, 4, 7, 4, 3, 0, 15, 4, 0, 7, 14, 0, 4, 14, 0, 14, 14, 14, 4, 7, 7, 0, 4, 7, 4, 7, 7, 0, 4, 0, 4, 4, 7, 4, 7, 7, 4, 4, 4, 7, 7, 7, 7, 14, 15, 14, 7, 7, 4, 0, 15, 15, 0, 0, 13, 14, 4, 14, 7, 7, 0, 0, 7, 4, 7, 15, 1, 0, 0, 0, 7, 7, 7, 7, 0, 4, 7, 7, 0, 7, 7, 0, 14, 7, 7, 4, 4, 7, 7, 7, 0, 7, 7, 7, 0, 4, 15, 14, 7, 14, 13, 14, 7, 4, 14, 7, 0, 0, 7, 15, 14, 7, 4, 7, 7, 7, 4, 7, 4, 4, 7, 0, 0, 7, 0, 7, 15, 9, 14, 0, 7, 15, 7, 4, 4, 4, 7, 0, 4, 0, 7, 14, 7, 4, 7, 7, 0, 7, 7, 0, 4, 7, 7, 4, 0, 4, 15, 4, 4, 7, 7, 0, 0, 7, 7, 0, 7, 0, 7, 7, 7, 4, 4, 7, 14, 7, 7, 7, 14, 7, 7, 7, 4, 14, 4, 7, 7, 7, 0, 7, 4, 9, 7, 7, 4, 4, 0, 4, 0, 7, 7, 4, 7, 10, 0, 7, 7, 15, 7, 4, 7, 7, 10, 4, 0, 7, 7, 7, 7, 7, 7, 7, 7, 7, 4, 7, 0, 0, 7, 7, 4, 4, 7, 0, 7, 0, 7, 4, 7, 7, 4, 4, 7, 7, 7, 4, 7, 0, 4, 7, 7, 7, 1, 7, 7, 7, 4, 7, 4, 4, 13, 0, 4, 7, 4, 7, 4, 4, 0, 7, 0, 7, 4, 4, 4, 7, 7, 4, 7, 14, 4, 7, 7, 4, 0, 7, 4, 7, 4, 7, 7, 11, 7, 7, 7, 7, 7, 7, 7, 5, 7, 4, 7, 4, 7, 7, 7, 7, 4, 7, 7, 7, 15, 4, 4, 7, 4, 4, 0, 4, 7, 0, 14, 7, 7, 4, 7, 7, 4, 14, 7, 4, 15, 7, 7, 7, 4, 4, 4, 7, 4, 4, 7, 4, 7, 7, 7, 15, 4, 7, 4, 7, 7, 13, 0, 4, 7, 10, 0, 14, 7, 7, 7, 7, 7, 13, 0, 4, 4, 7, 4, 0, 7, 0, 7, 7, 7, 12, 0, 7, 0, 7, 15, 4, 7, 7, 4, 4, 7, 4, 4, 7, 7, 4, 0, 7, 4, 7, 0, 7, 4, 0, 7, 7, 0, 0, 4, 7, 0, 0, 7, 7, 4, 0, 15, 7, 7, 7, 7, 0, 4, 0, 4, 7, 7, 7, 7, 4, 4, 7, 7, 15, 15, 7, 7, 7, 0, 4, 7, 0, 7, 7, 4, 4, 0, 0, 7, 15, 14, 4, 14, 10, 0, 0, 7, 7, 4, 7, 7, 7, 4, 14, 7, 4, 0, 7, 0, 4, 4, 7, 0, 7, 4, 7, 7, 4, 7, 7, 7, 7, 7, 7, 13, 7, 7, 0, 7, 14, 7, 4, 7, 3, 7, 14, 4, 7, 7, 4, 0, 7, 7, 4, 7, 7, 0, 4, 7, 7, 7, 7, 4, 7, 7, 14, 0, 14, 0, 7, 4, 7, 7, 14, 4, 7, 7, 4, 4, 0, 0, 7, 7, 4, 7, 10, 0, 0, 7, 7, 7, 0, 0, 15, 4, 7, 4, 0, 7, 0, 7, 7, 9, 7, 7, 0, 4, 4, 7, 7, 0, 4, 1, 0, 4, 4, 4, 7, 4, 7, 7, 0, 0, 7, 7, 14, 4, 4, 4, 7, 14, 4, 10, 0, 13, 4, 0, 15, 0, 1, 13, 5, 7, 7, 15, 0, 0, 4, 7, 7, 4, 0, 4, 7, 3, 7, 0, 7, 7, 7, 15, 4, 0, 7, 14, 4, 4, 4, 4, 4, 5, 4, 4, 0, 14, 7, 7, 0, 7, 7, 9, 0, 0, 0, 4, 7, 7, 0, 0, 15, 0, 0, 13, 15, 4, 1, 4, 7, 7, 11, 15, 7, 14, 14, 4, 4, 7, 7, 15, 4, 4, 0, 8, 4, 0, 14, 7, 14, 0, 14, 0, 7, 0, 0, 3, 7, 7, 4, 0, 0, 7, 0, 4, 14, 15, 14, 4, 7, 7, 4, 7, 0, 7, 7, 7, 7, 7, 4, 0, 10, 7, 7, 4, 4, 0, 7, 7, 7, 0, 14, 4, 7, 7, 4, 5, 7, 4, 4, 15, 0, 4, 7, 14, 4, 7, 7, 4, 7, 7, 10, 4, 4, 7, 4, 7, 0, 7, 1, 14, 7, 7, 0, 4, 0, 0, 4, 7, 7, 0, 4, 4, 7, 4, 7, 7, 4, 4, 4, 7, 7, 7, 7, 7, 4, 7, 15, 4, 0, 14, 15, 0, 7, 7, 4, 7, 4, 4, 4, 0, 4, 4, 7, 4, 4, 0, 4, 13, 4, 7, 4, 4, 7, 1, 7, 4, 13, 15, 4, 7, 7, 4, 4, 7, 7, 1, 7, 4, 0, 10, 4, 4, 10, 15, 10, 10, 4, 0, 7, 4, 0, 7, 4, 4, 4, 7, 7, 4, 14, 7, 7, 7, 7, 7, 7, 0, 14, 7, 7, 7, 7, 0, 4, 7, 7, 7, 7, 0, 4, 7, 4, 4, 10, 4, 4, 4, 7, 14, 7, 7, 7, 0, 7, 15, 4, 4, 7, 0, 16, 7, 4, 0, 7, 7, 15, 1, 7, 4, 4, 4, 7, 7, 14, 4, 7, 7, 7, 0, 7, 4, 7, 4, 4, 7, 14, 7, 7, 10, 4, 7, 4, 4, 7, 13, 10, 7, 7, 4, 4, 4, 0, 4, 4, 7, 0, 4, 7, 4, 0, 0, 7, 4, 0, 4, 7, 15, 7, 7, 0, 7, 4, 14, 15, 7, 4, 7, 0, 0, 7, 7, 17, 7, 4, 4, 4, 0, 4, 7, 7, 0, 7, 7, 4, 7, 4, 14, 4, 16, 4, 0, 7, 0, 14, 0, 0, 7, 4, 7, 7, 14, 0, 7, 0, 15, 7, 7, 0, 7, 15, 4, 15, 4, 4, 7, 7, 7, 7, 3, 10, 7, 7, 4, 0, 7, 4, 4, 4, 7, 10, 4, 0, 4, 4, 0, 0, 0, 10, 0, 10, 4, 0, 9, 0, 7, 0, 4, 0, 7, 4, 10, 14, 7, 4, 7, 7, 7, 0, 7, 0, 4, 7, 4, 4, 7, 7, 15, 4, 7, 4, 10, 0, 4, 7, 4, 4, 7, 7, 0, 0, 4, 7, 7, 7, 7, 7, 0, 4, 0, 7, 7, 0, 7, 7, 7, 0, 0, 7, 4, 4, 0, 7, 7, 7, 14, 7, 4, 15, 4, 0, 4, 7, 16, 7, 4, 7, 4, 7, 7, 15, 4, 7, 4, 7, 7, 4, 4, 7, 7, 7, 7, 4, 7, 7, 0, 4, 4, 0, 7, 7, 7, 10, 7, 0, 4, 4, 4, 7, 14, 7, 16, 4, 0, 0, 4, 15, 15, 7, 4, 4, 14, 4, 10, 4, 7, 0, 1, 7, 7, 0, 0, 0, 4, 7, 0, 9, 4, 14, 7, 7, 7, 7, 0, 4, 15, 16, 0, 0, 7, 7, 4, 7, 4, 7, 0, 0, 4, 7, 7, 14, 7, 4, 4, 7, 4, 11, 7, 7, 7, 7, 4, 7, 11, 9, 4, 14, 0, 4, 7, 7, 4, 14, 0, 7, 10, 4, 7, 0, 7, 13, 2, 0, 7, 4, 7, 7, 4, 10, 7, 14, 8, 1, 7, 7, 4, 3, 7, 13, 7, 14, 0, 0, 0, 7, 4, 0, 7, 4, 14, 4, 7, 7, 7, 4, 7, 4, 7, 7, 4, 7, 0, 4, 7, 4, 7, 4, 0, 0, 14, 4, 14, 0, 0, 2, 14, 4, 14, 0, 15, 0, 4, 15, 7, 4, 7, 15, 13, 4, 0, 4, 0, 8, 4, 7, 1, 15, 4, 4, 4, 0, 7, 14, 4, 7, 15, 7, 7, 0, 0, 4, 4, 4, 4, 0, 4, 7, 0, 7, 4, 7, 0, 0, 7, 4, 4, 4, 7, 4, 7, 2, 16, 7, 7, 7, 15, 15, 4, 7, 7, 7, 1, 7, 7, 0, 4, 7, 14, 7, 7, 0, 4, 7, 4, 7, 4, 7, 15, 7, 15, 7, 0, 7, 14, 10, 0, 4, 10, 4, 0, 7, 7, 4, 7, 7, 7, 4, 7, 4, 4, 14, 0, 4, 0, 4, 14, 7, 11, 10, 7, 4, 7, 7, 0, 1, 7, 0, 7, 0, 7, 7, 13, 7, 7, 0, 7, 7, 0, 7, 4, 7, 7, 7, 4, 4, 7, 7, 7, 0, 7, 0, 7, 4, 7, 4, 0, 4, 4, 7, 3, 13, 7, 7, 0, 7, 7, 14, 7, 7, 4, 7, 7, 4, 4, 4, 0, 7, 0, 7, 15, 1, 7, 4, 0, 0, 7, 4, 4, 10, 7, 7, 7, 13, 0, 4, 7, 4, 4, 7, 4, 7, 0, 7, 4, 7, 4, 4, 7, 7, 4, 14, 7, 7, 14, 5, 4, 7, 7, 4, 4, 4, 0, 4, 7, 4, 7, 7, 4, 7, 7, 0, 7, 0, 7, 5, 14, 7, 0, 4, 0, 7, 0, 7, 7, 7, 7, 7, 0, 0, 4, 7, 0, 4, 13, 7, 0, 15, 7, 0, 7, 7, 0, 7, 7, 0, 7, 7, 0, 7, 7, 7, 0, 0, 7, 10, 13, 7, 4, 4, 5, 0, 7, 4, 0, 4, 16, 7, 7, 7, 10, 7, 7, 0, 7, 0, 4, 0, 13, 7, 4, 4, 4, 4, 7, 7, 0, 15, 0, 4, 10, 15, 7, 7, 0, 7, 13, 4, 7, 7, 4, 7, 7, 4, 4, 7, 15, 4, 4, 7, 0, 4, 4, 4, 7, 7, 4, 3, 7, 7, 7, 7, 4, 0, 7, 7, 0, 4, 0, 4, 4, 7, 0, 4, 7, 0, 7, 7, 15, 7, 4, 4, 0, 7, 0, 7, 7, 4, 7, 4, 4, 4, 7, 7, 15, 7, 7, 7, 15, 14, 13, 7, 7, 0, 15, 4, 4, 7, 4, 7, 4, 4, 7, 7, 3, 7, 4, 4, 7, 7, 4, 0, 4, 0, 4, 4, 15, 7, 7, 4, 16, 4, 6, 7, 7, 7, 7, 4, 16, 0, 7, 7, 7, 4, 7, 7, 1, 4, 7, 14, 4, 14, 0, 7, 7, 4, 4, 4, 7, 4, 7, 7, 7, 7, 1, 7, 7, 7, 7, 4, 15, 14, 7, 6, 7, 7, 4, 0, 4, 7, 0, 7, 4, 7, 7, 4, 7, 7, 4, 7, 7, 7, 0, 7, 13, 7, 4, 7, 7, 4, 1, 7, 15, 0, 4, 7, 4, 7, 4, 4, 7, 7, 0, 0, 1, 7, 7, 7, 4, 7, 7, 13, 5, 15, 7, 7, 7, 7, 0, 4, 7, 4, 7, 13, 7, 4, 7, 7, 7, 7, 4, 0, 7, 7, 7, 4, 7, 7, 7, 4, 14, 4, 7, 7, 7, 7, 15, 7, 1, 4, 7, 7, 7, 7, 15, 4, 13, 7, 7, 4, 7, 7, 4, 13, 7, 4, 7, 4, 4, 14, 4, 4, 0, 7, 7, 7, 4, 14, 7, 0, 7, 0, 7, 5, 4, 4, 7, 7, 7, 14, 4, 7, 7, 4, 7, 7, 0, 7, 4, 13, 4, 0, 7, 7, 0, 7, 7, 7, 10, 7, 7, 7, 1, 7, 7, 7, 13, 4, 4, 0, 4, 7, 7, 7, 0, 4, 4, 7, 15, 7, 4, 7, 7, 0, 4, 4, 7, 4, 4, 14, 7, 7, 15, 4, 7, 5, 7, 7, 7, 4, 7, 7, 7, 4, 3, 0, 1, 14, 7, 7, 0, 7, 4, 14, 14, 0, 15, 7, 0, 7, 4, 7, 0, 1, 7, 14, 7, 7, 7, 4, 4, 0, 13, 4, 7, 13, 14, 4, 4, 4, 0, 7, 7, 4, 7, 7, 4, 4, 0, 7, 7, 4, 7, 7, 4, 4, 7, 7, 7, 4, 7, 4, 7, 7, 7, 14, 7, 4, 7, 7, 7, 7, 7, 7, 7, 4, 11, 7, 7, 4, 7, 7, 7, 7, 7, 7, 0, 0, 7, 15, 7, 7, 4, 14, 7, 9, 7, 7, 14, 14, 4, 7, 7, 0, 4, 7, 0, 14, 0, 7, 7, 7, 7, 14, 13, 14, 7, 5, 4, 4, 4, 7, 13, 7, 0, 4, 7, 7, 4, 7, 4, 7, 4, 17, 7, 7, 4, 7, 0, 7, 7, 1, 7, 0, 11, 4, 7, 0, 4, 4, 7, 4, 7, 4, 4, 0, 4, 7, 7, 7, 15, 14, 4, 7, 13, 7, 4, 7, 7, 7, 4, 13, 7, 7, 14, 7, 13, 4, 7, 12, 15, 4, 4, 4, 7, 7, 4, 7, 7, 7, 9, 4, 0, 14, 14, 7, 14, 4, 7, 14, 7, 4, 4, 7, 7, 4, 7, 7, 7, 14, 4, 7, 7, 7, 7, 0, 7, 7, 7, 4, 4, 7, 7, 7, 0, 0, 7, 4, 7, 7, 4, 7, 7, 15, 7, 3, 7, 7, 4, 0, 4, 15, 4, 7, 4, 7, 7, 4, 14, 7, 14, 7, 7, 7, 7, 7, 4, 7, 4, 7, 7, 7, 14, 4, 7, 4, 7, 7, 15, 7, 4, 13, 10, 0, 7, 0, 0, 7, 15, 7, 0, 4, 7, 0, 4, 16, 7, 7, 14, 4, 7, 4, 0, 7, 0, 7, 7, 4, 0, 4, 7, 7, 4, 4, 4, 7, 7, 14, 14, 4, 14, 3, 0, 4, 4, 4, 7, 7, 17, 4, 7, 15, 7, 0, 7, 14, 15, 7, 13, 15, 7, 7, 4, 7, 0, 7, 7, 4, 14, 8, 0, 7, 15, 4, 7, 4, 4, 0, 0, 7, 14, 0, 0, 0, 7, 4, 4, 7, 0, 11, 7, 4, 4, 7, 14, 1, 7, 4, 4, 4, 0, 7, 4, 7, 7, 0, 7, 7, 4, 0, 7, 7, 7, 4, 0, 4, 7, 7, 7, 4, 7, 14, 7, 4, 7, 7, 7, 0, 7, 14, 13, 7, 4, 4, 0, 0, 4, 4, 4, 7, 7, 7, 7, 7, 7, 4, 4, 7, 15, 14, 14, 7, 0, 4, 7, 7, 7, 4, 14, 14, 4, 7, 7, 4, 7, 4, 7, 4, 7, 0, 4, 2, 7, 4, 4, 7, 7, 4, 4, 7, 7, 7, 7, 0, 7, 7, 7, 0, 4, 14, 0, 7, 7, 0, 3, 7, 4, 7, 4, 10, 7, 0, 1, 4, 7, 0, 7, 10, 4, 0, 7, 15, 7, 4, 0, 4, 4, 15, 7, 15, 7, 4, 7, 7, 0, 7, 4, 7, 7, 7, 0, 4, 4, 0, 14, 11, 0, 0, 7, 0, 14, 0, 7, 13, 7, 7, 7, 0, 7, 7, 14, 0, 7, 7, 0, 7, 7, 4, 7, 11, 7, 7, 7, 0, 7, 10, 4, 4, 8, 4, 7, 3, 7, 4, 7, 4, 7, 0, 7, 7, 7, 13, 7, 7, 7, 7, 7, 0, 7, 7, 7, 4, 7, 7, 7, 4, 0, 7, 7, 7, 0, 7, 0, 7, 7, 7, 0, 4, 4, 7, 4, 7, 4, 4, 7, 7, 7, 7, 17, 7, 15, 7, 7, 0, 0, 14, 4, 7, 14, 7, 4, 4, 7, 7, 7, 0, 14, 5, 14, 7, 7, 0, 7, 4, 7, 7, 7, 4, 4, 7, 7, 7, 4, 7, 4, 4, 0, 8, 4, 4, 7, 0, 7, 4, 7, 4, 0, 4, 7, 4, 7, 0, 4, 7, 0, 4, 4, 7, 7, 7, 7, 7, 0, 7, 7, 1, 7, 7, 7, 4, 7, 0, 7, 7, 4, 7, 4, 10, 4, 7, 7, 7, 10, 4, 7, 14, 0, 13, 7, 0, 7, 14, 7, 7, 7, 7, 4, 7, 7, 0, 4, 4, 7, 7, 7, 10, 4, 0, 7, 4, 7, 4, 0, 7, 0, 10, 7, 7, 7, 7, 12, 7, 7, 14, 0, 7, 0, 7, 10, 4, 13, 4, 15, 4, 7, 7, 7, 13, 4, 7, 7, 7, 0, 7, 4, 7, 4, 4, 0, 4, 13, 0, 7, 4, 7, 0, 4, 16, 7, 0, 7, 7, 7, 0, 7, 4, 3, 7, 7, 7, 7, 4, 7, 3, 7, 4, 0, 4, 0, 0, 7, 4, 15, 7, 7, 4, 7, 7, 7, 0, 0, 14, 7, 15, 7, 4, 7, 7, 7, 0, 4, 0, 7, 0, 13, 7, 7, 4, 7, 14, 0, 16, 4, 0, 0, 4, 4, 0, 1, 7, 7, 7, 4, 7, 7, 4, 14, 14, 0, 4, 4, 7, 0, 7, 15, 4, 4, 4, 4, 14, 0, 7, 15, 0, 4, 7, 0, 4, 7, 7, 0, 0, 7, 7, 0, 7, 4, 0, 4, 4, 10, 4, 0, 1, 7, 7, 7, 7, 7, 0, 7, 0, 14, 4, 7, 4, 7, 0, 7, 7, 7, 7, 4, 7, 0, 7, 7, 7, 7, 15, 7, 4, 4, 4, 7, 13, 0, 7, 0, 13, 7, 7, 4, 7, 15, 7, 4, 0, 7, 14, 7, 15, 7, 7, 13, 4, 7, 4, 4, 4, 7, 7, 7, 7, 0, 4, 7, 4, 14, 4, 15, 14, 14, 15, 4, 7, 7, 7, 7, 7, 4, 7, 4, 7, 0, 4, 14, 15, 15, 7, 0, 7, 7, 10, 4, 0, 7, 7, 4, 7, 4, 4, 7, 7, 7, 7, 7, 7, 0, 7, 7, 4, 4, 0, 7, 14, 4, 7, 4, 7, 7, 7, 3, 7, 13, 15, 7, 13, 4, 7, 7, 4, 4, 0, 4, 7, 14, 7, 7, 7, 0, 7, 7, 0, 0, 7, 0, 0, 4, 7, 0, 4, 4, 14, 4, 0, 7, 7, 7, 4, 4, 7, 4, 7, 4, 0, 5, 4, 4, 7, 4, 7, 7, 13, 0, 4, 4, 7, 15, 0, 10, 7, 15, 7, 7, 5, 4, 7, 0, 7, 4, 7, 0, 7, 7, 0, 4, 0, 7, 7, 10, 4, 0, 0, 4, 7, 4, 7, 14, 4, 7, 15, 15, 7, 7, 13, 7, 13, 14, 7, 7, 7, 4, 13, 14, 7, 4, 7, 4, 7, 4, 4, 15, 7, 0, 7, 4, 7, 7, 0, 4, 14, 7, 4, 14, 7, 7, 7, 7, 7, 7, 7, 7, 0, 14, 14, 7, 7, 4, 4, 4, 7, 4, 4, 15, 0, 7, 4, 14, 7, 9, 7]\n"
     ]
    },
    {
     "data": {
      "image/png": "[encoded data removed]",
      "text/plain": [
       "<Figure size 432x288 with 1 Axes>"
      ]
     },
     "metadata": {
      "needs_background": "light"
     },
     "output_type": "display_data"
    }
   ],
   "source": [
    "g = []\n",
    "for i in range(6000):\n",
    "    if i % 1000 == 0:\n",
    "        print(i)\n",
    "    g.append(get_top_k_genres_for_user(ratings, i, 1)[0])\n",
    "\n"
   ]
  },
  {
   "cell_type": "code",
   "execution_count": 38,
   "metadata": {},
   "outputs": [
    {
     "name": "stdout",
     "output_type": "stream",
     "text": [
      "41 1564\n"
     ]
    },
    {
     "data": {
      "image/png": "[encoded data removed]",
      "text/plain": [
       "<Figure size 432x288 with 1 Axes>"
      ]
     },
     "metadata": {
      "needs_background": "light"
     },
     "output_type": "display_data"
    }
   ],
   "source": [
    "plt.hist(g, bins=16)\n",
    "x = [i for i in g if i == 3]\n",
    "y = [i for i in g if i == 4]\n",
    "\n",
    "print(len(x), len(y))\n",
    "plt.show()"
   ]
  },
  {
   "cell_type": "code",
   "execution_count": 11,
   "metadata": {},
   "outputs": [],
   "source": [
    "import numpy as np\n",
    "# translated from lmafit_mc_adp.m by Mark Crovella December 2014\n",
    "# omitting many options and just implementing the core functionality\n",
    "# for documentation on lmafit see http://lmafit.blogs.rice.edu/\n",
    "#\n",
    "# Note: this is very useful:\n",
    "# http://wiki.scipy.org/NumPy_for_Matlab_Users\n",
    "#\n",
    "def lmafit_mc_adp(m,n,k,Known,data,opts):\n",
    "    \"\"\"\n",
    " Output:\n",
    "           X --- m x k matrix\n",
    "           Y --- k x n matrix\n",
    "         Out --- output information\n",
    " Input:\n",
    "        m, n --- matrix sizes\n",
    "           k --- rank estimate\n",
    "       Known is a 2xL ndarray holding indices of known elements \n",
    "        data --- values of known elements in a 1D row vector\n",
    "        opts --- option structure (not used)\n",
    "    \"\"\"\n",
    "    L = len(data)\n",
    "    tol = 1.25e-4\n",
    "    maxit = 500\n",
    "    iprint = 0\n",
    "    reschg_tol = 0.5*tol\n",
    "    datanrm = np.max([1.0,np.linalg.norm(data)])\n",
    "    objv = np.zeros(maxit)\n",
    "    RR = np.ones(maxit)\n",
    "    if iprint == 1:\n",
    "        print('Iteration: ')\n",
    "    if iprint == 2:\n",
    "        print('\\nLMafit_mc: \\n')\n",
    "\n",
    "    # initialize: make sure the correctness of the index set and data\n",
    "    data[data==0]=np.spacing(1)\n",
    "    data_tran = False\n",
    "    Z = np.zeros((m,n))\n",
    "    Z[Known] = data\n",
    "\n",
    "    if m>n:\n",
    "        tmp = m\n",
    "        m = n\n",
    "        n = tmp\n",
    "        Z = Z.T\n",
    "        Known = np.nonzero(Z)\n",
    "        data = Z[Known]\n",
    "        data_tran = True\n",
    "\n",
    "    # assuming no inital solutions provided\n",
    "    X = np.zeros((m,k))\n",
    "    Y = np.eye(k,n)\n",
    "    Res = data\n",
    "    res = datanrm\n",
    "\n",
    "    # parameters for alf\n",
    "    alf = 0\n",
    "    increment = 1\n",
    "    itr_rank = 0\n",
    "    minitr_reduce_rank = 5\n",
    "    maxitr_reduce_rank = 50\n",
    "\n",
    "    for iter in range(maxit):\n",
    "        itr_rank += 1\n",
    "        Xo = X\n",
    "        Yo = Y\n",
    "        Res0 = Res\n",
    "        res0 = res\n",
    "        alf0x = alf\n",
    "        # iterative step\n",
    "        # Zfull option only\n",
    "        Zo = Z\n",
    "        X = Z.dot(Y.T)\n",
    "        X, R = np.linalg.qr(X)\n",
    "        Y = X.T.dot(Z)\n",
    "        Z = X.dot(Y)\n",
    "        Res = data - Z[Known]\n",
    "        #\n",
    "        res = np.linalg.norm(Res)\n",
    "        relres = res/datanrm\n",
    "        ratio = res/res0\n",
    "        reschg = np.abs(1-res/res0)\n",
    "        RR[iter] = ratio\n",
    "        # omitting rank estimation\n",
    "        # adjust alf\n",
    "        if ratio>=1.0:\n",
    "            increment = np.max([0.1*alf, 0.1*increment])\n",
    "            X = Xo\n",
    "            Y = Yo\n",
    "            Res = Res0\n",
    "            res = res0\n",
    "            relres = res/datanrm\n",
    "            alf = 0\n",
    "            Z = Zo\n",
    "        elif ratio>0.7:\n",
    "            increment = max(increment, 0.25*alf)\n",
    "            alf = alf+increment;\n",
    "    \n",
    "        if iprint==1:\n",
    "            print('{}'.format(iter))\n",
    "        if iprint==2:\n",
    "            print('it: {} rk: (none), rel. {} r. {} chg: {} alf: {} inc: {}\\n'.format(iter, k, relres,ratio,reschg,alf0x,increment))\n",
    "\n",
    "        objv[iter] = relres\n",
    "\n",
    "        # check stopping\n",
    "        if ((reschg < reschg_tol) and ((itr_rank > minitr_reduce_rank) or (relres < tol))):\n",
    "            break\n",
    "    \n",
    "        Z[Known] = data + alf*Res\n",
    "\n",
    "    if iprint == 1:\n",
    "        print('\\n')\n",
    "\n",
    "    if data_tran:\n",
    "        tX = X\n",
    "        X = Y.T\n",
    "        Y = tX.T\n",
    "\n",
    "    obj = objv[:iter]\n",
    "\n",
    "    return X, Y, [obj, RR, iter, relres, reschg]"
   ]
  },
  {
   "cell_type": "code",
   "execution_count": 12,
   "metadata": {},
   "outputs": [
    {
     "name": "stdout",
     "output_type": "stream",
     "text": [
      "9.354993310720781\n"
     ]
    }
   ],
   "source": [
    "\n",
    "mvs = [movie_to_index[i] for i in data[\"Movie\"].tolist()]\n",
    "usr = [u-1 for u in data.index.tolist()]\n",
    "Known = np.stack([usr,mvs], axis=0)\n",
    "\n",
    "rats = data[\"Rating\"]\n",
    "\n",
    "kn = Known[0],Known[1]\n",
    "\n",
    "a,b, c = lmafit_mc_adp(6040, 3883, 10, kn, rats, None)\n",
    "recon = a@b\n",
    "print(np.max(recon))\n",
    "# np.save(\"lmafit_out\", recon)"
   ]
  },
  {
   "cell_type": "code",
   "execution_count": 21,
   "metadata": {},
   "outputs": [
    {
     "name": "stdout",
     "output_type": "stream",
     "text": [
      "[[0 2 3 4]\n",
      " [1 0 3 0]]\n"
     ]
    }
   ],
   "source": [
    "ratings = [1, 2, 3, 4, 1, 2, 3]\n",
    "users =   [0, 0, 0, 0, 1, 1, 1]\n",
    "movies =  [0, 1, 2, 3, 0, 2, 2]\n",
    "\n",
    "x, y, _ = lmafit_mc_adp(2, 4, 5, (users, movies), ratings, None)\n",
    "completed = x.dot(y)\n",
    "print(completed.astype(np.int))"
   ]
  },
  {
   "cell_type": "code",
   "execution_count": null,
   "metadata": {},
   "outputs": [],
   "source": []
  }
 ],
 "metadata": {
  "kernelspec": {
   "display_name": "Python 3",
   "language": "python",
   "name": "python3"
  },
  "language_info": {
   "codemirror_mode": {
    "name": "ipython",
    "version": 3
   },
   "file_extension": ".py",
   "mimetype": "text/x-python",
   "name": "python",
   "nbconvert_exporter": "python",
   "pygments_lexer": "ipython3",
   "version": "3.7.4"
  }
 },
 "nbformat": 4,
 "nbformat_minor": 2
}
