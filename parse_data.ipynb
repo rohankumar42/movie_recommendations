{
 "cells": [
  {
   "cell_type": "code",
   "execution_count": 12,
   "metadata": {},
   "outputs": [],
   "source": [
    "import pandas as pd\n",
    "import numpy as np\n",
    "import csv\n",
    "import scipy.sparse\n",
    "\n",
    "\n",
    "input_file = \"ml-20m/ratings.csv\"\n",
    "name_data = pd.read_csv(\"ml-20m/movies.csv\")\n",
    "name_data.index.name = 'index'\n",
    "movie_to_index = dict((m,i) for i,m in zip(name_data.index, name_data.movieId))\n",
    "data = pd.read_csv(input_file, nrows=20_000_000)\n"
   ]
  },
  {
   "cell_type": "code",
   "execution_count": 22,
   "metadata": {},
   "outputs": [
    {
     "name": "stdout",
     "output_type": "stream",
     "text": [
      "done\n",
      "done\n"
     ]
    }
   ],
   "source": [
    "import pandas as pd\n",
    "import numpy as np\n",
    "import csv\n",
    "import scipy.sparse\n",
    "\n",
    "ratings = np.zeros(shape=(139000, 27278))\n",
    "for d in data.itertuples():\n",
    "    movie = movie_to_index[getattr(d, 'movieId')]\n",
    "    user = int(getattr(d, 'userId'))\n",
    "    rating = getattr(d, 'rating')\n",
    "    ratings[user][movie] = rating"
   ]
  },
  {
   "cell_type": "code",
   "execution_count": null,
   "metadata": {},
   "outputs": [],
   "source": [
    "scipy.sparse.save_npz(\"np_outfile\", scipy.sparse.csr_matrix(ratings))\n"
   ]
  },
  {
   "cell_type": "code",
   "execution_count": null,
   "metadata": {},
   "outputs": [],
   "source": []
  }
 ],
 "metadata": {
  "kernelspec": {
   "display_name": "Python 3",
   "language": "python",
   "name": "python3"
  },
  "language_info": {
   "codemirror_mode": {
    "name": "ipython",
    "version": 3
   },
   "file_extension": ".py",
   "mimetype": "text/x-python",
   "name": "python",
   "nbconvert_exporter": "python",
   "pygments_lexer": "ipython3",
   "version": "3.7.4"
  }
 },
 "nbformat": 4,
 "nbformat_minor": 2
}
